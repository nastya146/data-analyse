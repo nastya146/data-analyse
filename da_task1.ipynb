{
  "cells": [
    {
      "cell_type": "markdown",
      "metadata": {
        "id": "LdU7Kj2faIYC"
      },
      "source": [
        "# <a href=\"https://miptstats.github.io/courses/ad_fivt.html\">Введение в анализ данных</a>\n",
        "## Домашнее задание 1. Простой анализ данных."
      ]
    },
    {
      "cell_type": "markdown",
      "metadata": {
        "id": "USDYIJqpaIYF"
      },
      "source": [
        "**Правила, <font color=\"red\">прочитайте внимательно</font>:**\n",
        "\n",
        "\n",
        "* Дедлайн см. в боте. После дедлайна работы не принимаются кроме случаев наличия уважительной причины. Правила переноса дедлайнов определены в презентации с первого занятия.\n",
        "* Выполнять задание необходимо полностью самостоятельно. **При обнаружении списывания все участники списывания будут сдавать устный зачет.**\n",
        "* Задачи 1 и 2 сдаются в систему Яндекс.Контест. Ссылка на контест в телеграм-боте.\n",
        "\n",
        "\n",
        "**Сдача задачи 3:**\n",
        "\n",
        "* Выполненную работу нужно отправить телеграм-боту `@miptstats_ds24_bot`. Для начала работы с ботом каждый раз отправляйте `/start`. Дождитесь подтверждения от бота, что он принял файл. Если подтверждения нет, то что-то не так. **Работы, присланные иным способом, не принимаются.**\n",
        "* Прислать нужно **ноутбук в формате `ipynb`**.\n",
        "* Телеграм не разрешает боту получать файлы более **20 Мб**. Если ваше решение весит больше, *заранее* разделите ноутбук на несколько.\n",
        "* Для выполнения задания **используйте этот ноутбук в качестве основы, ничего не удаляя из него**. Можно добавлять необходимое количество ячеек.\n",
        "* Комментарии к решению пишите в markdown-ячейках.\n",
        "* Выполнение задания (ход решения, выводы и пр.) должно быть осуществлено на русском языке.\n",
        "* Если код будет не понятен проверяющему, оценка может быть снижена.\n",
        "* Никакой код из данного задания при проверке запускаться не будет. *Если код студента не выполнен, недописан и т.д., то он не оценивается.*\n",
        "* **Код из рассказанных на занятиях ноутбуков** можно использовать без ограничений.\n",
        "\n",
        "**Перед выполнением задания посмотрите презентацию по выполнению и оформлению домашних заданий с занятия 2.**\n",
        "\n",
        "---\n",
        "\n",
        "**Баллы за задание:**\n",
        "\n",
        "<b><font color=\"blue\">Легкая часть</font></b> (достаточно на \"хор\"):\n",
        "* Задача 1 &mdash; 10 баллов\n",
        "* Задача 2 &mdash; 10 баллов\n",
        "* Задача 3 &mdash; 80 баллов\n",
        "\n",
        "\n",
        "Баллы учитываются в <b>обязательной части</b> курса и не влияют на оценку по факультативной части."
      ]
    },
    {
      "cell_type": "code",
      "execution_count": null,
      "metadata": {
        "id": "zfv66AMfaIYG"
      },
      "outputs": [],
      "source": [
        "# Bot check\n",
        "\n",
        "# HW_ID: fpmi_ad1\n",
        "# Бот проверит этот ID и предупредит, если случайно сдать что-то не то\n",
        "\n",
        "# Status: final\n",
        "# Перед отправкой в финальном решении удали \"not\" в строчке выше\n",
        "# Так бот проверит, что ты отправляешь финальную версию, а не промежуточную"
      ]
    },
    {
      "cell_type": "code",
      "execution_count": 1,
      "metadata": {
        "id": "ht9Xm0EucoAr"
      },
      "outputs": [],
      "source": [
        "import numpy as np\n",
        "import pandas as pd\n",
        "import matplotlib.pyplot as plt\n",
        "import seaborn as sns\n",
        "\n",
        "sns.set(style='whitegrid', font_scale=1.3, palette='Set2')"
      ]
    },
    {
      "cell_type": "markdown",
      "metadata": {
        "id": "hUQBCJ2zaIYI"
      },
      "source": [
        "### <font color=\"blue\"><i>Легкая часть</i></font>\n",
        "\n",
        "### Задача 1.\n",
        "\n",
        "Условие задачи и сдача в системе Яндекс.Контест. Ссылка на контест в телеграм-боте."
      ]
    },
    {
      "cell_type": "markdown",
      "metadata": {
        "id": "YuW1w8WkaIYI"
      },
      "source": [
        "---\n",
        "### Задача 2.\n",
        "\n",
        "Условие задачи и сдача в системе Яндекс.Контест. Ссылка на контест в телеграм-боте."
      ]
    },
    {
      "cell_type": "markdown",
      "metadata": {
        "id": "TqpcSq6waIYI"
      },
      "source": [
        "---\n",
        "### Задача 3."
      ]
    },
    {
      "cell_type": "markdown",
      "metadata": {
        "id": "dDmYecSqaIYI"
      },
      "source": [
        "Титаник был крупнейшим пассажирским судном в 1912—1913 годах. Во время первого рейса затонул в северной Атлантике, столкнувшись с айсбергом в ночь с 14 на 15 апреля 1912 года, при этом погибло 1502 из 2224 пассажиров и членов экипажа. Данные о пассажирах были собраны в таблицы, которые можно скачать с <a href=\"https://www.kaggle.com/c/titanic/data\" target=\"_blank\">Kaggle</a>. Эти данные часто используются в качестве обучающих в анализе данных."
      ]
    },
    {
      "cell_type": "markdown",
      "metadata": {
        "id": "iumnheI-aIYI"
      },
      "source": [
        "На дополнительном занятии 10 февраля будет показан простой пример работы с датасетом Титаник. Сейчас ваша задача &mdash; на основе простого анализа предоставленных данных обучить несколько классификаторов для определения выживших, иначе говоря, получить некоторые приближенные правила определения, выжил пассажир или нет, а также сравнить эти правила по качеству приближения.\n",
        "\n",
        "#### 1. Подготовка данных\n",
        "\n",
        "Загрузите данные с помощью `pandas`."
      ]
    },
    {
      "cell_type": "code",
      "source": [
        "from google.colab import drive\n",
        "drive.mount('/content/drive')"
      ],
      "metadata": {
        "id": "h0HRKCmadIaY",
        "colab": {
          "base_uri": "https://localhost:8080/"
        },
        "outputId": "ec52e407-30cb-4af6-fd12-78cc0ed2501c"
      },
      "execution_count": 2,
      "outputs": [
        {
          "output_type": "stream",
          "name": "stdout",
          "text": [
            "Mounted at /content/drive\n"
          ]
        }
      ]
    },
    {
      "cell_type": "code",
      "execution_count": 28,
      "metadata": {
        "colab": {
          "base_uri": "https://localhost:8080/",
          "height": 237
        },
        "id": "M5VO8wV5aIYJ",
        "outputId": "91188891-ce61-4a34-f864-996d75a8344b"
      },
      "outputs": [
        {
          "output_type": "execute_result",
          "data": {
            "text/plain": [
              "             Survived  Pclass  \\\n",
              "PassengerId                     \n",
              "1                   0       3   \n",
              "2                   1       1   \n",
              "3                   1       3   \n",
              "4                   1       1   \n",
              "5                   0       3   \n",
              "\n",
              "                                                          Name     Sex   Age  \\\n",
              "PassengerId                                                                    \n",
              "1                                      Braund, Mr. Owen Harris    male  22.0   \n",
              "2            Cumings, Mrs. John Bradley (Florence Briggs Th...  female  38.0   \n",
              "3                                       Heikkinen, Miss. Laina  female  26.0   \n",
              "4                 Futrelle, Mrs. Jacques Heath (Lily May Peel)  female  35.0   \n",
              "5                                     Allen, Mr. William Henry    male  35.0   \n",
              "\n",
              "             SibSp  Parch            Ticket     Fare Cabin Embarked  \n",
              "PassengerId                                                          \n",
              "1                1      0         A/5 21171   7.2500   NaN        S  \n",
              "2                1      0          PC 17599  71.2833   C85        C  \n",
              "3                0      0  STON/O2. 3101282   7.9250   NaN        S  \n",
              "4                1      0            113803  53.1000  C123        S  \n",
              "5                0      0            373450   8.0500   NaN        S  "
            ],
            "text/html": [
              "\n",
              "  <div id=\"df-8fcbde4c-3f70-4240-91c9-382f0acade2d\" class=\"colab-df-container\">\n",
              "    <div>\n",
              "<style scoped>\n",
              "    .dataframe tbody tr th:only-of-type {\n",
              "        vertical-align: middle;\n",
              "    }\n",
              "\n",
              "    .dataframe tbody tr th {\n",
              "        vertical-align: top;\n",
              "    }\n",
              "\n",
              "    .dataframe thead th {\n",
              "        text-align: right;\n",
              "    }\n",
              "</style>\n",
              "<table border=\"1\" class=\"dataframe\">\n",
              "  <thead>\n",
              "    <tr style=\"text-align: right;\">\n",
              "      <th></th>\n",
              "      <th>Survived</th>\n",
              "      <th>Pclass</th>\n",
              "      <th>Name</th>\n",
              "      <th>Sex</th>\n",
              "      <th>Age</th>\n",
              "      <th>SibSp</th>\n",
              "      <th>Parch</th>\n",
              "      <th>Ticket</th>\n",
              "      <th>Fare</th>\n",
              "      <th>Cabin</th>\n",
              "      <th>Embarked</th>\n",
              "    </tr>\n",
              "    <tr>\n",
              "      <th>PassengerId</th>\n",
              "      <th></th>\n",
              "      <th></th>\n",
              "      <th></th>\n",
              "      <th></th>\n",
              "      <th></th>\n",
              "      <th></th>\n",
              "      <th></th>\n",
              "      <th></th>\n",
              "      <th></th>\n",
              "      <th></th>\n",
              "      <th></th>\n",
              "    </tr>\n",
              "  </thead>\n",
              "  <tbody>\n",
              "    <tr>\n",
              "      <th>1</th>\n",
              "      <td>0</td>\n",
              "      <td>3</td>\n",
              "      <td>Braund, Mr. Owen Harris</td>\n",
              "      <td>male</td>\n",
              "      <td>22.0</td>\n",
              "      <td>1</td>\n",
              "      <td>0</td>\n",
              "      <td>A/5 21171</td>\n",
              "      <td>7.2500</td>\n",
              "      <td>NaN</td>\n",
              "      <td>S</td>\n",
              "    </tr>\n",
              "    <tr>\n",
              "      <th>2</th>\n",
              "      <td>1</td>\n",
              "      <td>1</td>\n",
              "      <td>Cumings, Mrs. John Bradley (Florence Briggs Th...</td>\n",
              "      <td>female</td>\n",
              "      <td>38.0</td>\n",
              "      <td>1</td>\n",
              "      <td>0</td>\n",
              "      <td>PC 17599</td>\n",
              "      <td>71.2833</td>\n",
              "      <td>C85</td>\n",
              "      <td>C</td>\n",
              "    </tr>\n",
              "    <tr>\n",
              "      <th>3</th>\n",
              "      <td>1</td>\n",
              "      <td>3</td>\n",
              "      <td>Heikkinen, Miss. Laina</td>\n",
              "      <td>female</td>\n",
              "      <td>26.0</td>\n",
              "      <td>0</td>\n",
              "      <td>0</td>\n",
              "      <td>STON/O2. 3101282</td>\n",
              "      <td>7.9250</td>\n",
              "      <td>NaN</td>\n",
              "      <td>S</td>\n",
              "    </tr>\n",
              "    <tr>\n",
              "      <th>4</th>\n",
              "      <td>1</td>\n",
              "      <td>1</td>\n",
              "      <td>Futrelle, Mrs. Jacques Heath (Lily May Peel)</td>\n",
              "      <td>female</td>\n",
              "      <td>35.0</td>\n",
              "      <td>1</td>\n",
              "      <td>0</td>\n",
              "      <td>113803</td>\n",
              "      <td>53.1000</td>\n",
              "      <td>C123</td>\n",
              "      <td>S</td>\n",
              "    </tr>\n",
              "    <tr>\n",
              "      <th>5</th>\n",
              "      <td>0</td>\n",
              "      <td>3</td>\n",
              "      <td>Allen, Mr. William Henry</td>\n",
              "      <td>male</td>\n",
              "      <td>35.0</td>\n",
              "      <td>0</td>\n",
              "      <td>0</td>\n",
              "      <td>373450</td>\n",
              "      <td>8.0500</td>\n",
              "      <td>NaN</td>\n",
              "      <td>S</td>\n",
              "    </tr>\n",
              "  </tbody>\n",
              "</table>\n",
              "</div>\n",
              "    <div class=\"colab-df-buttons\">\n",
              "\n",
              "  <div class=\"colab-df-container\">\n",
              "    <button class=\"colab-df-convert\" onclick=\"convertToInteractive('df-8fcbde4c-3f70-4240-91c9-382f0acade2d')\"\n",
              "            title=\"Convert this dataframe to an interactive table.\"\n",
              "            style=\"display:none;\">\n",
              "\n",
              "  <svg xmlns=\"http://www.w3.org/2000/svg\" height=\"24px\" viewBox=\"0 -960 960 960\">\n",
              "    <path d=\"M120-120v-720h720v720H120Zm60-500h600v-160H180v160Zm220 220h160v-160H400v160Zm0 220h160v-160H400v160ZM180-400h160v-160H180v160Zm440 0h160v-160H620v160ZM180-180h160v-160H180v160Zm440 0h160v-160H620v160Z\"/>\n",
              "  </svg>\n",
              "    </button>\n",
              "\n",
              "  <style>\n",
              "    .colab-df-container {\n",
              "      display:flex;\n",
              "      gap: 12px;\n",
              "    }\n",
              "\n",
              "    .colab-df-convert {\n",
              "      background-color: #E8F0FE;\n",
              "      border: none;\n",
              "      border-radius: 50%;\n",
              "      cursor: pointer;\n",
              "      display: none;\n",
              "      fill: #1967D2;\n",
              "      height: 32px;\n",
              "      padding: 0 0 0 0;\n",
              "      width: 32px;\n",
              "    }\n",
              "\n",
              "    .colab-df-convert:hover {\n",
              "      background-color: #E2EBFA;\n",
              "      box-shadow: 0px 1px 2px rgba(60, 64, 67, 0.3), 0px 1px 3px 1px rgba(60, 64, 67, 0.15);\n",
              "      fill: #174EA6;\n",
              "    }\n",
              "\n",
              "    .colab-df-buttons div {\n",
              "      margin-bottom: 4px;\n",
              "    }\n",
              "\n",
              "    [theme=dark] .colab-df-convert {\n",
              "      background-color: #3B4455;\n",
              "      fill: #D2E3FC;\n",
              "    }\n",
              "\n",
              "    [theme=dark] .colab-df-convert:hover {\n",
              "      background-color: #434B5C;\n",
              "      box-shadow: 0px 1px 3px 1px rgba(0, 0, 0, 0.15);\n",
              "      filter: drop-shadow(0px 1px 2px rgba(0, 0, 0, 0.3));\n",
              "      fill: #FFFFFF;\n",
              "    }\n",
              "  </style>\n",
              "\n",
              "    <script>\n",
              "      const buttonEl =\n",
              "        document.querySelector('#df-8fcbde4c-3f70-4240-91c9-382f0acade2d button.colab-df-convert');\n",
              "      buttonEl.style.display =\n",
              "        google.colab.kernel.accessAllowed ? 'block' : 'none';\n",
              "\n",
              "      async function convertToInteractive(key) {\n",
              "        const element = document.querySelector('#df-8fcbde4c-3f70-4240-91c9-382f0acade2d');\n",
              "        const dataTable =\n",
              "          await google.colab.kernel.invokeFunction('convertToInteractive',\n",
              "                                                    [key], {});\n",
              "        if (!dataTable) return;\n",
              "\n",
              "        const docLinkHtml = 'Like what you see? Visit the ' +\n",
              "          '<a target=\"_blank\" href=https://colab.research.google.com/notebooks/data_table.ipynb>data table notebook</a>'\n",
              "          + ' to learn more about interactive tables.';\n",
              "        element.innerHTML = '';\n",
              "        dataTable['output_type'] = 'display_data';\n",
              "        await google.colab.output.renderOutput(dataTable, element);\n",
              "        const docLink = document.createElement('div');\n",
              "        docLink.innerHTML = docLinkHtml;\n",
              "        element.appendChild(docLink);\n",
              "      }\n",
              "    </script>\n",
              "  </div>\n",
              "\n",
              "\n",
              "<div id=\"df-36f878e1-39e7-4e71-bd4a-5eae5e622845\">\n",
              "  <button class=\"colab-df-quickchart\" onclick=\"quickchart('df-36f878e1-39e7-4e71-bd4a-5eae5e622845')\"\n",
              "            title=\"Suggest charts\"\n",
              "            style=\"display:none;\">\n",
              "\n",
              "<svg xmlns=\"http://www.w3.org/2000/svg\" height=\"24px\"viewBox=\"0 0 24 24\"\n",
              "     width=\"24px\">\n",
              "    <g>\n",
              "        <path d=\"M19 3H5c-1.1 0-2 .9-2 2v14c0 1.1.9 2 2 2h14c1.1 0 2-.9 2-2V5c0-1.1-.9-2-2-2zM9 17H7v-7h2v7zm4 0h-2V7h2v10zm4 0h-2v-4h2v4z\"/>\n",
              "    </g>\n",
              "</svg>\n",
              "  </button>\n",
              "\n",
              "<style>\n",
              "  .colab-df-quickchart {\n",
              "      --bg-color: #E8F0FE;\n",
              "      --fill-color: #1967D2;\n",
              "      --hover-bg-color: #E2EBFA;\n",
              "      --hover-fill-color: #174EA6;\n",
              "      --disabled-fill-color: #AAA;\n",
              "      --disabled-bg-color: #DDD;\n",
              "  }\n",
              "\n",
              "  [theme=dark] .colab-df-quickchart {\n",
              "      --bg-color: #3B4455;\n",
              "      --fill-color: #D2E3FC;\n",
              "      --hover-bg-color: #434B5C;\n",
              "      --hover-fill-color: #FFFFFF;\n",
              "      --disabled-bg-color: #3B4455;\n",
              "      --disabled-fill-color: #666;\n",
              "  }\n",
              "\n",
              "  .colab-df-quickchart {\n",
              "    background-color: var(--bg-color);\n",
              "    border: none;\n",
              "    border-radius: 50%;\n",
              "    cursor: pointer;\n",
              "    display: none;\n",
              "    fill: var(--fill-color);\n",
              "    height: 32px;\n",
              "    padding: 0;\n",
              "    width: 32px;\n",
              "  }\n",
              "\n",
              "  .colab-df-quickchart:hover {\n",
              "    background-color: var(--hover-bg-color);\n",
              "    box-shadow: 0 1px 2px rgba(60, 64, 67, 0.3), 0 1px 3px 1px rgba(60, 64, 67, 0.15);\n",
              "    fill: var(--button-hover-fill-color);\n",
              "  }\n",
              "\n",
              "  .colab-df-quickchart-complete:disabled,\n",
              "  .colab-df-quickchart-complete:disabled:hover {\n",
              "    background-color: var(--disabled-bg-color);\n",
              "    fill: var(--disabled-fill-color);\n",
              "    box-shadow: none;\n",
              "  }\n",
              "\n",
              "  .colab-df-spinner {\n",
              "    border: 2px solid var(--fill-color);\n",
              "    border-color: transparent;\n",
              "    border-bottom-color: var(--fill-color);\n",
              "    animation:\n",
              "      spin 1s steps(1) infinite;\n",
              "  }\n",
              "\n",
              "  @keyframes spin {\n",
              "    0% {\n",
              "      border-color: transparent;\n",
              "      border-bottom-color: var(--fill-color);\n",
              "      border-left-color: var(--fill-color);\n",
              "    }\n",
              "    20% {\n",
              "      border-color: transparent;\n",
              "      border-left-color: var(--fill-color);\n",
              "      border-top-color: var(--fill-color);\n",
              "    }\n",
              "    30% {\n",
              "      border-color: transparent;\n",
              "      border-left-color: var(--fill-color);\n",
              "      border-top-color: var(--fill-color);\n",
              "      border-right-color: var(--fill-color);\n",
              "    }\n",
              "    40% {\n",
              "      border-color: transparent;\n",
              "      border-right-color: var(--fill-color);\n",
              "      border-top-color: var(--fill-color);\n",
              "    }\n",
              "    60% {\n",
              "      border-color: transparent;\n",
              "      border-right-color: var(--fill-color);\n",
              "    }\n",
              "    80% {\n",
              "      border-color: transparent;\n",
              "      border-right-color: var(--fill-color);\n",
              "      border-bottom-color: var(--fill-color);\n",
              "    }\n",
              "    90% {\n",
              "      border-color: transparent;\n",
              "      border-bottom-color: var(--fill-color);\n",
              "    }\n",
              "  }\n",
              "</style>\n",
              "\n",
              "  <script>\n",
              "    async function quickchart(key) {\n",
              "      const quickchartButtonEl =\n",
              "        document.querySelector('#' + key + ' button');\n",
              "      quickchartButtonEl.disabled = true;  // To prevent multiple clicks.\n",
              "      quickchartButtonEl.classList.add('colab-df-spinner');\n",
              "      try {\n",
              "        const charts = await google.colab.kernel.invokeFunction(\n",
              "            'suggestCharts', [key], {});\n",
              "      } catch (error) {\n",
              "        console.error('Error during call to suggestCharts:', error);\n",
              "      }\n",
              "      quickchartButtonEl.classList.remove('colab-df-spinner');\n",
              "      quickchartButtonEl.classList.add('colab-df-quickchart-complete');\n",
              "    }\n",
              "    (() => {\n",
              "      let quickchartButtonEl =\n",
              "        document.querySelector('#df-36f878e1-39e7-4e71-bd4a-5eae5e622845 button');\n",
              "      quickchartButtonEl.style.display =\n",
              "        google.colab.kernel.accessAllowed ? 'block' : 'none';\n",
              "    })();\n",
              "  </script>\n",
              "</div>\n",
              "    </div>\n",
              "  </div>\n"
            ],
            "application/vnd.google.colaboratory.intrinsic+json": {
              "type": "dataframe",
              "variable_name": "df",
              "summary": "{\n  \"name\": \"df\",\n  \"rows\": 891,\n  \"fields\": [\n    {\n      \"column\": \"PassengerId\",\n      \"properties\": {\n        \"dtype\": \"number\",\n        \"std\": 257,\n        \"min\": 1,\n        \"max\": 891,\n        \"num_unique_values\": 891,\n        \"samples\": [\n          710,\n          440,\n          841\n        ],\n        \"semantic_type\": \"\",\n        \"description\": \"\"\n      }\n    },\n    {\n      \"column\": \"Survived\",\n      \"properties\": {\n        \"dtype\": \"number\",\n        \"std\": 0,\n        \"min\": 0,\n        \"max\": 1,\n        \"num_unique_values\": 2,\n        \"samples\": [\n          1,\n          0\n        ],\n        \"semantic_type\": \"\",\n        \"description\": \"\"\n      }\n    },\n    {\n      \"column\": \"Pclass\",\n      \"properties\": {\n        \"dtype\": \"number\",\n        \"std\": 0,\n        \"min\": 1,\n        \"max\": 3,\n        \"num_unique_values\": 3,\n        \"samples\": [\n          3,\n          1\n        ],\n        \"semantic_type\": \"\",\n        \"description\": \"\"\n      }\n    },\n    {\n      \"column\": \"Name\",\n      \"properties\": {\n        \"dtype\": \"string\",\n        \"num_unique_values\": 891,\n        \"samples\": [\n          \"Moubarek, Master. Halim Gonios (\\\"William George\\\")\",\n          \"Kvillner, Mr. Johan Henrik Johannesson\"\n        ],\n        \"semantic_type\": \"\",\n        \"description\": \"\"\n      }\n    },\n    {\n      \"column\": \"Sex\",\n      \"properties\": {\n        \"dtype\": \"category\",\n        \"num_unique_values\": 2,\n        \"samples\": [\n          \"female\",\n          \"male\"\n        ],\n        \"semantic_type\": \"\",\n        \"description\": \"\"\n      }\n    },\n    {\n      \"column\": \"Age\",\n      \"properties\": {\n        \"dtype\": \"number\",\n        \"std\": 14.526497332334042,\n        \"min\": 0.42,\n        \"max\": 80.0,\n        \"num_unique_values\": 88,\n        \"samples\": [\n          0.75,\n          22.0\n        ],\n        \"semantic_type\": \"\",\n        \"description\": \"\"\n      }\n    },\n    {\n      \"column\": \"SibSp\",\n      \"properties\": {\n        \"dtype\": \"number\",\n        \"std\": 1,\n        \"min\": 0,\n        \"max\": 8,\n        \"num_unique_values\": 7,\n        \"samples\": [\n          1,\n          0\n        ],\n        \"semantic_type\": \"\",\n        \"description\": \"\"\n      }\n    },\n    {\n      \"column\": \"Parch\",\n      \"properties\": {\n        \"dtype\": \"number\",\n        \"std\": 0,\n        \"min\": 0,\n        \"max\": 6,\n        \"num_unique_values\": 7,\n        \"samples\": [\n          0,\n          1\n        ],\n        \"semantic_type\": \"\",\n        \"description\": \"\"\n      }\n    },\n    {\n      \"column\": \"Ticket\",\n      \"properties\": {\n        \"dtype\": \"string\",\n        \"num_unique_values\": 681,\n        \"samples\": [\n          \"11774\",\n          \"248740\"\n        ],\n        \"semantic_type\": \"\",\n        \"description\": \"\"\n      }\n    },\n    {\n      \"column\": \"Fare\",\n      \"properties\": {\n        \"dtype\": \"number\",\n        \"std\": 49.6934285971809,\n        \"min\": 0.0,\n        \"max\": 512.3292,\n        \"num_unique_values\": 248,\n        \"samples\": [\n          11.2417,\n          51.8625\n        ],\n        \"semantic_type\": \"\",\n        \"description\": \"\"\n      }\n    },\n    {\n      \"column\": \"Cabin\",\n      \"properties\": {\n        \"dtype\": \"category\",\n        \"num_unique_values\": 147,\n        \"samples\": [\n          \"D45\",\n          \"B49\"\n        ],\n        \"semantic_type\": \"\",\n        \"description\": \"\"\n      }\n    },\n    {\n      \"column\": \"Embarked\",\n      \"properties\": {\n        \"dtype\": \"category\",\n        \"num_unique_values\": 3,\n        \"samples\": [\n          \"S\",\n          \"C\"\n        ],\n        \"semantic_type\": \"\",\n        \"description\": \"\"\n      }\n    }\n  ]\n}"
            }
          },
          "metadata": {},
          "execution_count": 28
        }
      ],
      "source": [
        "df = pd.read_csv('./drive/MyDrive/titanic_train.csv', index_col=0)\n",
        "df.head()"
      ]
    },
    {
      "cell_type": "markdown",
      "metadata": {
        "id": "6ZBlv4yZaIYJ"
      },
      "source": [
        "Разделите данные по строкам на две части случайным образом в соотношении 7:3. Первую часть мы будем называть *обучающей*, а вторую &mdash; *тестовой*."
      ]
    },
    {
      "cell_type": "code",
      "execution_count": 29,
      "metadata": {
        "id": "2idbWbjFaIYJ",
        "colab": {
          "base_uri": "https://localhost:8080/"
        },
        "outputId": "1dfc13c3-5cbb-4365-843b-1b8ec64742c7"
      },
      "outputs": [
        {
          "output_type": "execute_result",
          "data": {
            "text/plain": [
              "(             Survived  Pclass  \\\n",
              " PassengerId                     \n",
              " 660                 0       1   \n",
              " 526                 0       3   \n",
              " 829                 1       3   \n",
              " 754                 0       3   \n",
              " 519                 1       2   \n",
              " \n",
              "                                                           Name     Sex   Age  \\\n",
              " PassengerId                                                                    \n",
              " 660                                 Newell, Mr. Arthur Webster    male  58.0   \n",
              " 526                                         Farrell, Mr. James    male  40.5   \n",
              " 829                               McCormack, Mr. Thomas Joseph    male   NaN   \n",
              " 754                                         Jonkoff, Mr. Lalio    male  23.0   \n",
              " 519          Angle, Mrs. William A (Florence \"Mary\" Agnes H...  female  36.0   \n",
              " \n",
              "              SibSp  Parch  Ticket      Fare Cabin Embarked  \n",
              " PassengerId                                                 \n",
              " 660              0      2   35273  113.2750   D48        C  \n",
              " 526              0      0  367232    7.7500   NaN        Q  \n",
              " 829              0      0  367228    7.7500   NaN        Q  \n",
              " 754              0      0  349204    7.8958   NaN        S  \n",
              " 519              1      0  226875   26.0000   NaN        S  ,\n",
              "              Survived  Pclass                             Name     Sex   Age  \\\n",
              " PassengerId                                                                    \n",
              " 1                   0       3          Braund, Mr. Owen Harris    male  22.0   \n",
              " 3                   1       3           Heikkinen, Miss. Laina  female  26.0   \n",
              " 7                   0       1          McCarthy, Mr. Timothy J    male  54.0   \n",
              " 8                   0       3   Palsson, Master. Gosta Leonard    male   2.0   \n",
              " 11                  1       3  Sandstrom, Miss. Marguerite Rut  female   4.0   \n",
              " \n",
              "              SibSp  Parch            Ticket     Fare Cabin Embarked  \n",
              " PassengerId                                                          \n",
              " 1                1      0         A/5 21171   7.2500   NaN        S  \n",
              " 3                0      0  STON/O2. 3101282   7.9250   NaN        S  \n",
              " 7                0      0             17463  51.8625   E46        S  \n",
              " 8                3      1            349909  21.0750   NaN        S  \n",
              " 11               1      1           PP 9549  16.7000    G6        S  )"
            ]
          },
          "metadata": {},
          "execution_count": 29
        }
      ],
      "source": [
        "train_data = df.sample(frac = 0.7, random_state = 200)\n",
        "test_data = df.drop(train_data.index)\n",
        "train_data.head(), test_data.head()"
      ]
    },
    {
      "cell_type": "markdown",
      "metadata": {
        "id": "U1mY9FMLaIYJ"
      },
      "source": [
        "Из каждой части оставим несколько признаков, с которыми мы будем работать, а также отдельно &mdash; целевой признак. Примените к обеим частям таблицы функцию ниже"
      ]
    },
    {
      "cell_type": "markdown",
      "source": [
        "Дополнительно после выделения нескольких признаков мы удаляем строчки, в которых были пропущены значения"
      ],
      "metadata": {
        "id": "TnpHK45kj702"
      }
    },
    {
      "cell_type": "code",
      "execution_count": 30,
      "metadata": {
        "id": "1TOt6B3jaIYJ"
      },
      "outputs": [],
      "source": [
        "features_columns = ['Pclass', 'Sex', 'Age', 'SibSp', 'Parch', 'Fare']\n",
        "target_column = 'Survived'  # Целевой признак\n",
        "a = ['Pclass', 'Sex', 'Age', 'SibSp', 'Parch', 'Fare', 'Survived']\n",
        "\n",
        "def get_features_and_target(data):\n",
        "    data = data[a].dropna()\n",
        "    features = data[features_columns]\n",
        "    target = data[target_column]\n",
        "    return features, target"
      ]
    },
    {
      "cell_type": "code",
      "execution_count": 31,
      "metadata": {
        "id": "9nQ3UhKWaIYK"
      },
      "outputs": [],
      "source": [
        "x_train, y_train = get_features_and_target(train_data)\n",
        "x_test, y_test = get_features_and_target(test_data)"
      ]
    },
    {
      "cell_type": "markdown",
      "metadata": {
        "id": "VTEoE554aIYK"
      },
      "source": [
        "#### 2. Исследование\n",
        "\n",
        "**Внимание.** Эта часть задачи должна выполняться *исключительно на обучающих данных*. За использование тестовых данных решение не будет оценено.\n",
        "\n",
        "Проведите визуальный анализ данных чтобы понять, как различные признаки влияют на целевой. Исследовать можно не целиком обучающие данные, а разделить их на две части по одному из признаков, а далее рассматривать каждую часть отдельно.\n",
        "\n",
        "*Не забывайте про информативность и эстетичность графиков.*"
      ]
    },
    {
      "cell_type": "markdown",
      "source": [
        "Для первичного анализа признаков численного типа и дальнейшей их нормализации выведем их максимальное, минимальное и  среднее значение"
      ],
      "metadata": {
        "id": "gRfT6a0ODYKT"
      }
    },
    {
      "cell_type": "code",
      "source": [
        "x_train.describe(), y_train.describe()"
      ],
      "metadata": {
        "colab": {
          "base_uri": "https://localhost:8080/"
        },
        "id": "RjjmSIbNcRGu",
        "outputId": "6c9373c0-e11d-4a29-ce06-7139a4735d7d"
      },
      "execution_count": 32,
      "outputs": [
        {
          "output_type": "execute_result",
          "data": {
            "text/plain": [
              "(           Pclass         Age       SibSp       Parch        Fare\n",
              " count  496.000000  496.000000  496.000000  496.000000  496.000000\n",
              " mean     2.243952   29.612560    0.550403    0.431452   36.500025\n",
              " std      0.835430   14.677426    0.964773    0.859492   57.038342\n",
              " min      1.000000    0.750000    0.000000    0.000000    0.000000\n",
              " 25%      1.000000   20.000000    0.000000    0.000000    8.050000\n",
              " 50%      2.500000   28.000000    0.000000    0.000000   15.900000\n",
              " 75%      3.000000   38.000000    1.000000    1.000000   35.500000\n",
              " max      3.000000   74.000000    5.000000    6.000000  512.329200,\n",
              " count    496.000000\n",
              " mean       0.397177\n",
              " std        0.489807\n",
              " min        0.000000\n",
              " 25%        0.000000\n",
              " 50%        0.000000\n",
              " 75%        1.000000\n",
              " max        1.000000\n",
              " Name: Survived, dtype: float64)"
            ]
          },
          "metadata": {},
          "execution_count": 32
        }
      ]
    },
    {
      "cell_type": "markdown",
      "source": [
        "Построили гистограммы для каждого признака из features_columns и оставили те, на которых есть зависимость выживаемости от признака"
      ],
      "metadata": {
        "id": "GWNW2mipPL_x"
      }
    },
    {
      "cell_type": "code",
      "source": [
        "plt.figure(figsize=(25, 20))\n",
        "i = 1\n",
        "for category in ['Pclass', 'Sex', 'Age', 'Fare']:\n",
        "    plt.subplot(2, 2, i)\n",
        "    sns.histplot(data=x_test, x=x_train[category], hue = y_train, palette={1:'g', 0:'r'})\n",
        "    if category == 'Fare':\n",
        "      plt.xscale('log')\n",
        "      plt.yscale('log')\n",
        "    elif category == 'Pclass' :\n",
        "      plt.xticks(ticks=[1, 2, 3])\n",
        "    i += 1"
      ],
      "metadata": {
        "colab": {
          "base_uri": "https://localhost:8080/",
          "height": 1000
        },
        "id": "U8V1rBEtgj4a",
        "outputId": "95ebb093-c4e8-4951-d009-6253e03c6dbb"
      },
      "execution_count": 33,
      "outputs": [
        {
          "output_type": "display_data",
          "data": {
            "text/plain": [
              "<Figure size 2500x2000 with 4 Axes>"
            ],
            "image/png": "[encoded data removed]"
          },
          "metadata": {}
        }
      ]
    },
    {
      "cell_type": "markdown",
      "source": [
        "По полученным графикам видно, что пол влияет на целевую переменную. То есть, около 80% мужчин и 30% женщин погибло. По графику зависимости количества выживших от возраста можно заметить, что выживших детей почти в 2 раза больше, чем умерших, а среди пассажиров старше 10 лет количество умерших почти в 2 раза больше. От класса пассажира выживаемость так же зависит: для 1 класса больше половины выжило и, наоборот, для 3 класса много больше половины людей погибло, но для людей 2 класса нет явного преобладания какого то класса. По последнему графику видно, что среди людей заплативших больше 100 почти все выжили."
      ],
      "metadata": {
        "id": "Fsntz2R1ozwj"
      }
    },
    {
      "cell_type": "markdown",
      "source": [
        "Для дальнейшей работы с даннными их надо привести признак строкового типа к численному, чтобы по этому признаку тоже можно было расстояние между точками"
      ],
      "metadata": {
        "id": "bbvo_IJqQcI9"
      }
    },
    {
      "cell_type": "code",
      "source": [
        "# сделали все данные численного типа для train\n",
        "x_train.loc[x_train['Sex'] == 'male', 'Sex'] = 0\n",
        "x_train.loc[x_train['Sex'] == 'female', 'Sex'] = 1\n",
        "x_train['Sex'] = x_train['Sex'].astype(int)\n",
        "x_train = x_train.dropna()\n",
        "\n",
        "x_train.info()"
      ],
      "metadata": {
        "colab": {
          "base_uri": "https://localhost:8080/"
        },
        "id": "fp4RHgcWU-mj",
        "outputId": "f621490f-5c31-4cb4-e41a-305c3163e53b"
      },
      "execution_count": 34,
      "outputs": [
        {
          "output_type": "stream",
          "name": "stdout",
          "text": [
            "<class 'pandas.core.frame.DataFrame'>\n",
            "Int64Index: 496 entries, 660 to 112\n",
            "Data columns (total 6 columns):\n",
            " #   Column  Non-Null Count  Dtype  \n",
            "---  ------  --------------  -----  \n",
            " 0   Pclass  496 non-null    int64  \n",
            " 1   Sex     496 non-null    int64  \n",
            " 2   Age     496 non-null    float64\n",
            " 3   SibSp   496 non-null    int64  \n",
            " 4   Parch   496 non-null    int64  \n",
            " 5   Fare    496 non-null    float64\n",
            "dtypes: float64(2), int64(4)\n",
            "memory usage: 27.1 KB\n"
          ]
        }
      ]
    },
    {
      "cell_type": "code",
      "source": [
        "x_men = x_train.loc[x_train['Sex'] == 0]\n",
        "x_women = x_train.loc[x_train['Sex'] == 1]\n",
        "y_men = y_train.drop(x_women.index)\n",
        "y_women = y_train.drop(x_men.index)\n",
        "x_women.info(), x_men.info()"
      ],
      "metadata": {
        "colab": {
          "base_uri": "https://localhost:8080/"
        },
        "id": "y6eqc1KDkob4",
        "outputId": "4c62d3fb-acc5-4c33-a191-566470c13bf0"
      },
      "execution_count": 35,
      "outputs": [
        {
          "output_type": "stream",
          "name": "stdout",
          "text": [
            "<class 'pandas.core.frame.DataFrame'>\n",
            "Int64Index: 178 entries, 519 to 112\n",
            "Data columns (total 6 columns):\n",
            " #   Column  Non-Null Count  Dtype  \n",
            "---  ------  --------------  -----  \n",
            " 0   Pclass  178 non-null    int64  \n",
            " 1   Sex     178 non-null    int64  \n",
            " 2   Age     178 non-null    float64\n",
            " 3   SibSp   178 non-null    int64  \n",
            " 4   Parch   178 non-null    int64  \n",
            " 5   Fare    178 non-null    float64\n",
            "dtypes: float64(2), int64(4)\n",
            "memory usage: 9.7 KB\n",
            "<class 'pandas.core.frame.DataFrame'>\n",
            "Int64Index: 318 entries, 660 to 95\n",
            "Data columns (total 6 columns):\n",
            " #   Column  Non-Null Count  Dtype  \n",
            "---  ------  --------------  -----  \n",
            " 0   Pclass  318 non-null    int64  \n",
            " 1   Sex     318 non-null    int64  \n",
            " 2   Age     318 non-null    float64\n",
            " 3   SibSp   318 non-null    int64  \n",
            " 4   Parch   318 non-null    int64  \n",
            " 5   Fare    318 non-null    float64\n",
            "dtypes: float64(2), int64(4)\n",
            "memory usage: 17.4 KB\n"
          ]
        },
        {
          "output_type": "execute_result",
          "data": {
            "text/plain": [
              "(None, None)"
            ]
          },
          "metadata": {},
          "execution_count": 35
        }
      ]
    },
    {
      "cell_type": "markdown",
      "metadata": {
        "id": "3bfVWpcfaIYK"
      },
      "source": [
        "#### 3. Классификация методом ближайшего соседа\n",
        "\n",
        "Ранее в контесте вы уже реализовали функцию поиска ближайших соседей. Теперь давайте применим ее для решения нашей текущей задачи.\n",
        "\n",
        "Реализуйте функцию, которая для каждого объекта тестового набора данных найдет $k$ ближайших соседей из обучающего набора данных, и в качестве ответа возьмет наиболее часто встречающееся значение целевого признака среди найденных соседей. Обратите внимание, что соседей необходимо искать только среди объектов обучающего набора данных."
      ]
    },
    {
      "cell_type": "code",
      "source": [
        "# сделали все данные численного типа и убрали строчки с nan для test\n",
        "x_test.loc[x_test['Sex'] == 'male', 'Sex'] = 0\n",
        "x_test.loc[x_test['Sex'] == 'female', 'Sex'] = 1\n",
        "x_test['Sex'] = x_test['Sex'].astype(int)\n",
        "x_test.info(), x_train.info()"
      ],
      "metadata": {
        "colab": {
          "base_uri": "https://localhost:8080/"
        },
        "id": "DmNInIcCfVwM",
        "outputId": "c5009abe-d96b-45a7-9e14-bfcbc2556e69"
      },
      "execution_count": 36,
      "outputs": [
        {
          "output_type": "stream",
          "name": "stdout",
          "text": [
            "<class 'pandas.core.frame.DataFrame'>\n",
            "Int64Index: 218 entries, 1 to 886\n",
            "Data columns (total 6 columns):\n",
            " #   Column  Non-Null Count  Dtype  \n",
            "---  ------  --------------  -----  \n",
            " 0   Pclass  218 non-null    int64  \n",
            " 1   Sex     218 non-null    int64  \n",
            " 2   Age     218 non-null    float64\n",
            " 3   SibSp   218 non-null    int64  \n",
            " 4   Parch   218 non-null    int64  \n",
            " 5   Fare    218 non-null    float64\n",
            "dtypes: float64(2), int64(4)\n",
            "memory usage: 11.9 KB\n",
            "<class 'pandas.core.frame.DataFrame'>\n",
            "Int64Index: 496 entries, 660 to 112\n",
            "Data columns (total 6 columns):\n",
            " #   Column  Non-Null Count  Dtype  \n",
            "---  ------  --------------  -----  \n",
            " 0   Pclass  496 non-null    int64  \n",
            " 1   Sex     496 non-null    int64  \n",
            " 2   Age     496 non-null    float64\n",
            " 3   SibSp   496 non-null    int64  \n",
            " 4   Parch   496 non-null    int64  \n",
            " 5   Fare    496 non-null    float64\n",
            "dtypes: float64(2), int64(4)\n",
            "memory usage: 43.3 KB\n"
          ]
        },
        {
          "output_type": "execute_result",
          "data": {
            "text/plain": [
              "(None, None)"
            ]
          },
          "metadata": {},
          "execution_count": 36
        }
      ]
    },
    {
      "cell_type": "code",
      "execution_count": 38,
      "metadata": {
        "id": "0kxGQMufaIYK"
      },
      "outputs": [],
      "source": [
        "def knn(features, train_features, train_target, k=1):\n",
        "    '''\n",
        "    Предсказание целевого признака для данных features -- pandas-таблица данных.\n",
        "    на основе обучающего набора данных train_features, train_target.\n",
        "    Возвращает pandas.Series с теми же индексами, что и у features.\n",
        "    Число k -- количество соседей.\n",
        "    '''\n",
        "    # print(train_features, features)\n",
        "    train_features_np = np.array(train_features.values)\n",
        "    features_np = np.array(features.values).reshape(features.shape[0], 1, features.shape[1])\n",
        "    # print(features_np, train_features_np)\n",
        "    predicted = ((features_np - train_features_np)**2).sum(axis=2)\n",
        "    res = predicted.argsort(axis = 1)\n",
        "    res = res[:,:k]\n",
        "    # print(res)\n",
        "    ans = []\n",
        "    for arr in res:\n",
        "      ans.append(train_target.iloc[arr]['Survived'].mean().round())\n",
        "    temp = features.copy()\n",
        "    temp['ans'] = np.array(ans)\n",
        "    return temp['ans']\n"
      ]
    },
    {
      "cell_type": "markdown",
      "metadata": {
        "id": "Tpi9H_DuaIYK"
      },
      "source": [
        "Постройте классификатор методом ближайшего соседа, используя только признаки `Age` и `Fare`.\n",
        "\n",
        "Какую метрику (функцию расстояния) вы при этом используете? Нужно ли предварительно что-то сделать с признаками?"
      ]
    },
    {
      "cell_type": "markdown",
      "source": [
        "В модели использовалась евклидова метрика. Данные нормировались относительно разницы между макисмальным и минимальным значением (таким образом, что новые значения лежат в отрезке [0, 1]), так как значения возраста и стоимости билета имеют разный порядок величин и природу и мы не знаем какой из них больше влияет на результат, то нормируем их одинаково."
      ],
      "metadata": {
        "id": "xijCtHRJWT4o"
      }
    },
    {
      "cell_type": "code",
      "execution_count": 39,
      "metadata": {
        "id": "oMfvkAyIaIYK"
      },
      "outputs": [],
      "source": [
        "def Accuracy(predict, true):\n",
        "  np_pred = np.array(predict)\n",
        "  np_true = np.array(true)\n",
        "  ans = ((np_pred == np_true)).sum() / np_true.shape[0]\n",
        "  return ans\n"
      ]
    },
    {
      "cell_type": "markdown",
      "metadata": {
        "id": "QjOqTYNaaIYK"
      },
      "source": [
        "Как меняется результат классификации при другом количестве соседей? Рассмотрите хотя бы три различных нечетных значения количества соседей."
      ]
    },
    {
      "cell_type": "markdown",
      "source": [
        "Точность с увеличением соседей растет"
      ],
      "metadata": {
        "id": "vgZcJVaQfJ0x"
      }
    },
    {
      "cell_type": "code",
      "source": [
        "features = x_test[['Age', 'Fare']].copy()\n",
        "delta_age = x_test['Age'].max() - x_test['Age'].min()\n",
        "max_age = x_test['Age'].max()\n",
        "min_age = x_test['Age'].min()\n",
        "features['Age'] = (features['Age'] - min_age) / delta_age\n",
        "delta_fare = x_test['Fare'].max() - x_test['Fare'].min()\n",
        "min_fare = x_test['Fare'].min()\n",
        "features['Fare'] = (features['Fare'] - min_fare) / delta_fare\n",
        "\n",
        "train_features = x_train[['Age', 'Fare']].copy()\n",
        "delta_age = x_train['Age'].max() - x_train['Age'].min()\n",
        "max_age = x_train['Age'].max()\n",
        "min_age = x_train['Age'].min()\n",
        "train_features['Age'] = (train_features['Age'] - min_age) / delta_age\n",
        "delta_fare = x_train['Fare'].max() - x_train['Fare'].min()\n",
        "min_fare = x_train['Fare'].min()\n",
        "train_features['Fare'] = (train_features['Fare'] - min_fare) / delta_fare"
      ],
      "metadata": {
        "id": "3C6pDVNKlaXO"
      },
      "execution_count": 40,
      "outputs": []
    },
    {
      "cell_type": "code",
      "source": [
        "res1 = knn(features, train_features,  pd.DataFrame(y_train), 1)\n",
        "res2 = knn(features, train_features,  pd.DataFrame(y_train), 5)\n",
        "res3 = knn(features, train_features,  pd.DataFrame(y_train), 9)\n",
        "Accuracy(res1, y_test), Accuracy(res2, y_test), Accuracy(res3, y_test)\n"
      ],
      "metadata": {
        "colab": {
          "base_uri": "https://localhost:8080/"
        },
        "id": "NX7yA__viGFo",
        "outputId": "472f7b67-bf39-4ad3-9c9d-a4d5fcccc537"
      },
      "execution_count": 41,
      "outputs": [
        {
          "output_type": "execute_result",
          "data": {
            "text/plain": [
              "(0.5779816513761468, 0.6376146788990825, 0.6559633027522935)"
            ]
          },
          "metadata": {},
          "execution_count": 41
        }
      ]
    },
    {
      "cell_type": "markdown",
      "metadata": {
        "id": "jG8R0poTaIYK"
      },
      "source": [
        "Как можно было бы учесть другие признаки? Какие при этом могут возникнуть проблемы?\n",
        "\n",
        "\n",
        "Строить классификатор с другими признаками при этом не нужно."
      ]
    },
    {
      "cell_type": "markdown",
      "source": [
        "Другие признаки в Knn учитываются добавлением еще одной координаты. При этом нужно выделить какой признак важнее для предсказания выживаемости и как лучше масштабировать каждую ось. При очень большой разнице диапазонов результаты могут искозиться(класс и стоимость билета). Также новый признак может быть категориальным, его придется дополнительно приводить к чиленному типу, чтобы суметь находить расстояние (например признак пола). Так же может увеличится ошибка из-за нехватки данных"
      ],
      "metadata": {
        "id": "fp1QZYk5d3_G"
      }
    },
    {
      "cell_type": "markdown",
      "metadata": {
        "id": "SULHlyMJaIYK"
      },
      "source": [
        "#### 4. Классификация логическими правилами\n",
        "\n",
        "На основе выше проведенного исследования предложите два разных правила в виде решающего дерева, пример которого можете посмотреть в презентации с первой лекции (классификация котиков). Никакие статистические методы использовать не требуется, только логику и графики.\n",
        "\n",
        "В данной задаче достаточно, если первое дерево будет иметь максимальную глубину 2, а второе &mdash; глубину 1, и при этом не является поддеревом первого. *Примечание*: дерево из одного листа имеет глубину 0.\n",
        "\n",
        "**Дерево 1:**\n",
        "\n",
        "```\n",
        "   Fare > 50\n",
        " yes / \\ no\n",
        " 1    Age <= 10\n",
        "       yes  /\\ no\n",
        "           1  0\n",
        "```\n",
        "\n",
        "\n",
        "**Дерево 2:**\n",
        "```\n",
        "  Sex = woman\n",
        " yes / \\ no\n",
        "    1   0\n",
        "```\n",
        "Реализуйте полученные деревья по шаблону"
      ]
    },
    {
      "cell_type": "code",
      "execution_count": null,
      "metadata": {
        "id": "ZMqmPw32aIYL"
      },
      "outputs": [],
      "source": [
        "def tree1(features):\n",
        "    '''\n",
        "    Предсказание целевого признака для данных features -- pandas-таблица данных.\n",
        "    Возвращает pandas.Series с теми же индексами, что и у features.\n",
        "    '''\n",
        "    temp = features.copy()\n",
        "    temp['ans'] = 0\n",
        "    temp.loc[(features['Fare'] > 50), 'ans'] = 1\n",
        "    temp.loc[(features['Fare'] <= 50) & (features['Age'] <= 10), 'ans'] = 1\n",
        "    temp.loc[(features['Fare'] <= 50) & (features['Age'] > 10), 'ans'] = 0\n",
        "    return temp['ans']\n",
        "\n",
        "def tree2(features):\n",
        "    '''\n",
        "    Предсказание целевого признака для данных features -- pandas-таблица данных.\n",
        "    Возвращает pandas.Series с теми же индексами, что и у features.\n",
        "    '''\n",
        "    temp = features.copy()\n",
        "    temp['ans'] = 0\n",
        "    temp.loc[(features['Sex'] == 1), 'ans'] = 1\n",
        "    temp.loc[features['Sex'] == 0, 'ans'] = 0\n",
        "    return temp['ans']\n"
      ]
    },
    {
      "cell_type": "code",
      "source": [
        "features = x_test[['Sex', 'Pclass', 'Fare', 'Age']]\n",
        "pred1 = tree1(features)\n",
        "pred2 = tree2(features)\n",
        "Accuracy(pred1, y_test), Accuracy(pred2, y_test)"
      ],
      "metadata": {
        "colab": {
          "base_uri": "https://localhost:8080/"
        },
        "id": "fAF438xbYgOT",
        "outputId": "c5a9bc08-31a5-436d-8193-fdd6b93b3614"
      },
      "execution_count": null,
      "outputs": [
        {
          "output_type": "execute_result",
          "data": {
            "text/plain": [
              "(0.6697247706422018, 0.7614678899082569)"
            ]
          },
          "metadata": {},
          "execution_count": 104
        }
      ]
    },
    {
      "cell_type": "markdown",
      "metadata": {
        "id": "SbBKzW5UaIYL"
      },
      "source": [
        "#### 5. Качество\n",
        "\n",
        "Вспомним, что у нас имеется тестовая часть выборки. Самое время ее использовать для того, чтобы оценить, насколько хорошими получились деревья. Предложите какой-нибудь критерий качества.\n",
        "\n",
        "*Замечание*. Не стоит пытаться искать, какие критерии существуют. В данном случае легко предложить адекватный критерий. Стандартные критерии мы разберем позже, но для начала лучше подумать самостоятельно.\n",
        "\n",
        "**Критерий:**\n",
        "\n",
        "Будем оценивать точность как отношение количества совпавших ответов pred и y_test к общему количесвту ответов\n",
        "\n",
        "Реализуйте данный критерий по шаблону"
      ]
    },
    {
      "cell_type": "code",
      "execution_count": null,
      "metadata": {
        "id": "IqBiO-o5aIYL"
      },
      "outputs": [],
      "source": [
        "def criteria(predict, true):\n",
        "  np_pred = np.array(predict)\n",
        "  np_true = np.array(true)\n",
        "  ans = ((np_pred == np_true)).sum() / np_true.shape[0]\n",
        "  return ans\n"
      ]
    },
    {
      "cell_type": "markdown",
      "metadata": {
        "id": "hxVkpE_OaIYL"
      },
      "source": [
        "Оцените качество построенных ранее моделей (два дерева, kNN), используя предложенный критерий.\n",
        "\n",
        "*Примечание.* Полученные значения не влияют на оценку по задание. Оценивается только корректность и обоснованность решения, а также графики и выводы."
      ]
    },
    {
      "cell_type": "code",
      "source": [
        "features = x_test[['Age', 'Fare']].copy()\n",
        "delta_age = x_test['Age'].max() - x_test['Age'].min()\n",
        "max_age = x_test['Age'].max()\n",
        "min_age = x_test['Age'].min()\n",
        "features['Age'] = (features['Age'] - min_age) / delta_age\n",
        "delta_fare = x_test['Fare'].max() - x_test['Fare'].min()\n",
        "min_fare = x_test['Fare'].min()\n",
        "features['Fare'] = (features['Fare'] - min_fare) / delta_fare\n",
        "\n",
        "train_features = x_train[['Age', 'Fare']].copy()\n",
        "delta_age = x_train['Age'].max() - x_train['Age'].min()\n",
        "max_age = x_train['Age'].max()\n",
        "min_age = x_train['Age'].min()\n",
        "train_features['Age'] = (train_features['Age'] - min_age) / delta_age\n",
        "delta_fare = x_train['Fare'].max() - x_train['Fare'].min()\n",
        "min_fare = x_train['Fare'].min()\n",
        "train_features['Fare'] = (train_features['Fare'] - min_fare) / delta_fare"
      ],
      "metadata": {
        "id": "KrH6xuMclLS8"
      },
      "execution_count": null,
      "outputs": []
    },
    {
      "cell_type": "markdown",
      "source": [
        "Модель с евклидовой метрикой и без предварительной обработки данных"
      ],
      "metadata": {
        "id": "pNBlZjDeUFJb"
      }
    },
    {
      "cell_type": "code",
      "source": [
        "x = np.arange(1, 10, 1)\n",
        "y=[]\n",
        "for i in range(1, 10, 1) :\n",
        "   pred = knn(x_test[['Age', 'Fare']], x_train[['Age', 'Fare']],  pd.DataFrame(y_train), i)\n",
        "   ans = Accuracy(pred, y_test)\n",
        "   y.append(ans)\n",
        "print(y, '\\n', np.max(np.array(y)))\n",
        "plt.figure(figsize=(15, 10))\n",
        "plt.plot(x, y)\n",
        "plt.xlabel('Neighbour')\n",
        "plt.ylabel('Accuracy')\n",
        "plt.show()"
      ],
      "metadata": {
        "colab": {
          "base_uri": "https://localhost:8080/",
          "height": 899
        },
        "id": "qMamNGPsJNYi",
        "outputId": "2e4d694e-41d4-4ff6-8e3a-5bac1d7755ac"
      },
      "execution_count": 43,
      "outputs": [
        {
          "output_type": "stream",
          "name": "stdout",
          "text": [
            "[0.591743119266055, 0.6238532110091743, 0.6284403669724771, 0.6376146788990825, 0.6330275229357798, 0.6330275229357798, 0.6238532110091743, 0.6238532110091743, 0.6376146788990825] \n",
            " 0.6376146788990825\n"
          ]
        },
        {
          "output_type": "display_data",
          "data": {
            "text/plain": [
              "<Figure size 1500x1000 with 1 Axes>"
            ],
            "image/png": "[encoded data removed]"
          },
          "metadata": {}
        }
      ]
    },
    {
      "cell_type": "markdown",
      "source": [
        "Модель с евклидовой метрикой и min-max нормализацией данных"
      ],
      "metadata": {
        "id": "ZtTnxm-bToq_"
      }
    },
    {
      "cell_type": "code",
      "execution_count": 42,
      "metadata": {
        "id": "0IrQK1slaIYK",
        "colab": {
          "base_uri": "https://localhost:8080/",
          "height": 899
        },
        "outputId": "f1442588-5ce0-4901-ec07-8f105bf47f8f"
      },
      "outputs": [
        {
          "output_type": "stream",
          "name": "stdout",
          "text": [
            "[0.5779816513761468, 0.6284403669724771, 0.6100917431192661, 0.591743119266055, 0.6376146788990825, 0.6284403669724771, 0.6467889908256881, 0.6605504587155964, 0.6559633027522935] \n",
            " 0.6605504587155964\n"
          ]
        },
        {
          "output_type": "display_data",
          "data": {
            "text/plain": [
              "<Figure size 1500x1000 with 1 Axes>"
            ],
            "image/png": "[encoded data removed]"
          },
          "metadata": {}
        }
      ],
      "source": [
        "x = np.arange(1, 10, 1)\n",
        "y=[]\n",
        "for i in range(1, 10, 1) :\n",
        "   pred = knn(features, train_features,  pd.DataFrame(y_train), i)\n",
        "   ans = Accuracy(pred, y_test)\n",
        "   y.append(ans)\n",
        "print(y, '\\n', np.max(np.array(y)))\n",
        "plt.figure(figsize=(15, 10))\n",
        "plt.plot(x, y)\n",
        "plt.xlabel('Neighbour')\n",
        "plt.ylabel('Accuracy')\n",
        "plt.show()"
      ]
    },
    {
      "cell_type": "markdown",
      "metadata": {
        "id": "Lsabnn_paIYL"
      },
      "source": [
        "Посчитайте значение предложенного ранее критерия качества для метода ближайшего соседа для значений $k$ от 1 до 10. Постройте график зависимости критерия качества от $k$. Как вы можете пояснить полученные результаты?"
      ]
    },
    {
      "cell_type": "markdown",
      "source": [
        "При увеличение количества соседей точность на тестовой выборке увеличивалась, так как при совсем маленьком значении соседей выбросы имеют большее значение."
      ],
      "metadata": {
        "id": "RoS165nLj9Di"
      }
    },
    {
      "cell_type": "markdown",
      "metadata": {
        "id": "ifnYkKCKaIYL"
      },
      "source": [
        "#### 6. Выводы"
      ]
    },
    {
      "cell_type": "markdown",
      "metadata": {
        "id": "yLfN39KYaIYL"
      },
      "source": [
        "Из графиков и точности предсказаний деревьев видно, что больше всего на целевую переменную влияет пол и класс пассажира. А именно, выживаемость детей и женщин значительно выше 0,5 , так же принадлежность пассажиров 1 классу и больший доход увеличивали шанс выживания. По построенной модели kNN видно, что по признакам доход и возраст нельзя точки разделить на группы  так, чтобы значительно преобладал один класс над другим (выживших или нет), соответсвенно точность у нее и у дерева классифицирующего по этим признакам ниже, чем если людей классифицировать по полу"
      ]
    }
  ],
  "metadata": {
    "colab": {
      "provenance": []
    },
    "hide_input": false,
    "kernelspec": {
      "display_name": "Python 3 (ipykernel)",
      "language": "python",
      "name": "python3"
    },
    "language_info": {
      "codemirror_mode": {
        "name": "ipython",
        "version": 3
      },
      "file_extension": ".py",
      "mimetype": "text/x-python",
      "name": "python",
      "nbconvert_exporter": "python",
      "pygments_lexer": "ipython3",
      "version": "3.10.6"
    }
  },
  "nbformat": 4,
  "nbformat_minor": 0
}